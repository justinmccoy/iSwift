{
 "cells": [
  {
   "cell_type": "markdown",
   "metadata": {},
   "source": [
    "# Look who's getting more popular\n"
   ]
  },
  {
   "cell_type": "markdown",
   "metadata": {},
   "source": [
    "![](https://cdn-images-1.medium.com/max/2000/1*UCyHmHSYoNASeB3zbWIHKA.png)\n",
    "*https://towardsdatascience.com/build-a-taylor-swift-detector-with-the-tensorflow-object-detection-api-ml-engine-and-swift-82707f5b4a56\n",
    "\n",
    "### That's Taylor Swift, but not the Swift we're talking about"
   ]
  },
  {
   "cell_type": "markdown",
   "metadata": {},
   "source": [
    "![](https://redmonk.com/fryan/files/2018/03/20180319-redmonklang-2012-2018.png)"
   ]
  },
  {
   "cell_type": "markdown",
   "metadata": {},
   "source": [
    "<br><br><br><br><br>\n",
    "\n",
    "\n",
    "\n",
    "**As David has been demonstrating, Swift in 3 years has started to adapt to many different programming paradigms**\n",
    "\n",
    "\n",
    "<br><br><br><br><br>"
   ]
  },
  {
   "cell_type": "markdown",
   "metadata": {},
   "source": [
    "<center>\n",
    "    ![](https://www.thinkingbit.co/blog/wp-content/uploads/2017/10/objective-c-training-croma-campus.png)\n",
    "    ![](https://i0.wp.com/www.netgains.org/wp-content/uploads/2014/01/node_js.png?resize=249%2C287&ssl=1)\n",
    "    ![](http://techguylabs.com/sites/techguylabs.com/files/styles/tgl-4col/public/java-logo.jpeg?itok=5oH93v5L)\n",
    "    ![](https://encrypted-tbn0.gstatic.com/images?q=tbn:ANd9GcR2OeTlM88PQolEfWeZs_JhkVuze0mBK0WG5H3keg1RsuUDypBfEg)\n",
    "</center>"
   ]
  },
  {
   "cell_type": "markdown",
   "metadata": {},
   "source": [
    "# What's Next?\n",
    "<br><br><br><br><br><br><br><br><br>"
   ]
  },
  {
   "cell_type": "markdown",
   "metadata": {},
   "source": [
    "![](https://i.pinimg.com/originals/5e/be/99/5ebe996e2399063661dc278644a41439.jpg)"
   ]
  },
  {
   "cell_type": "markdown",
   "metadata": {},
   "source": [
    "![](https://cdn-images-1.medium.com/max/346/0*I3hkRieQ6B3qwwhy.)"
   ]
  },
  {
   "cell_type": "markdown",
   "metadata": {},
   "source": [
    "**This is a Jupyter Notebook**\n",
    "\n",
    "It's an open-source web application that allows you to create and share documents that contain live code, equations, visualizations and narrative text. Uses include: data cleaning and transformation, numerical simulation, statistical modeling, data visualization, machine learning, and much more.\n",
    "\n"
   ]
  },
  {
   "cell_type": "markdown",
   "metadata": {},
   "source": [
    "This notebook is running in a Docker container, was built by Kelvin Jin, and is available on GitHub for you to try out here: [https://github.com/KelvinJin/iSwift](https://github.com/KelvinJin/iSwift)\n",
    "\n",
    "<br><br><br>\n",
    "*It's old though*"
   ]
  },
  {
   "cell_type": "code",
   "execution_count": 14,
   "metadata": {},
   "outputs": [
    {
     "data": {
      "text/plain": [
       "a: Int = 34"
      ]
     },
     "execution_count": 14,
     "metadata": {},
     "output_type": "execute_result"
    }
   ],
   "source": [
    "let a = 34"
   ]
  },
  {
   "cell_type": "code",
   "execution_count": 2,
   "metadata": {},
   "outputs": [
    {
     "data": {
      "text/plain": [
       "$R0: Int = 204"
      ]
     },
     "execution_count": 2,
     "metadata": {},
     "output_type": "execute_result"
    }
   ],
   "source": [
    "34*6"
   ]
  },
  {
   "cell_type": "code",
   "execution_count": 10,
   "metadata": {},
   "outputs": [
    {
     "data": {
      "text/plain": [
       "result = 1346269"
      ]
     },
     "execution_count": 10,
     "metadata": {},
     "output_type": "execute_result"
    }
   ],
   "source": [
    "func fibonacci(n: Int) {\n",
    "\n",
    "    var num1 = 0\n",
    "    var num2 = 1\n",
    "\n",
    "    for _ in 0 ..< n {\n",
    "    \n",
    "        let num = num1 + num2\n",
    "        num1 = num2\n",
    "        num2 = num\n",
    "    }\n",
    "    \n",
    "    print(\"result = \\(num2)\")\n",
    "}\n",
    "fibonacci(n:30)\n"
   ]
  },
  {
   "cell_type": "code",
   "execution_count": 11,
   "metadata": {},
   "outputs": [
    {
     "data": {
      "text/plain": []
     },
     "execution_count": 11,
     "metadata": {},
     "output_type": "execute_result"
    }
   ],
   "source": [
    "func fibonacciRecursiveNum1(num1: Int, num2: Int, steps: Int) {\n",
    "\n",
    "    if steps > 0 {\n",
    "        let newNum = num1 + num2\n",
    "        fibonacciRecursiveNum1(num1:num2, num2: newNum, steps: steps-1)\n",
    "    }\n",
    "    else {\n",
    "        print(\"result = \\(num2)\")\n",
    "    }\n",
    "}\n"
   ]
  },
  {
   "cell_type": "code",
   "execution_count": 13,
   "metadata": {},
   "outputs": [
    {
     "data": {
      "text/plain": [
       "result = 1346269"
      ]
     },
     "execution_count": 13,
     "metadata": {},
     "output_type": "execute_result"
    }
   ],
   "source": [
    "fibonacciRecursiveNum1(num1: 0, num2: 1, steps: 30)"
   ]
  },
  {
   "cell_type": "code",
   "execution_count": null,
   "metadata": {},
   "outputs": [],
   "source": []
  },
  {
   "cell_type": "code",
   "execution_count": null,
   "metadata": {},
   "outputs": [],
   "source": []
  }
 ],
 "metadata": {
  "kernelspec": {
   "display_name": "Swift",
   "language": "swift",
   "name": "iswiftkernel"
  },
  "language_info": {
   "file_extension": ".swift",
   "mimetype": "text/swift",
   "name": "swift",
   "version": "2.1"
  }
 },
 "nbformat": 4,
 "nbformat_minor": 2
}
