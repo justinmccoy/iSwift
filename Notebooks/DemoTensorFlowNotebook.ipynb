{
 "cells": [
  {
   "cell_type": "markdown",
   "metadata": {},
   "source": [
    "# Expermential, try at your own risk\n",
    "Follow the latest over at https://groups.google.com/a/tensorflow.org/forum/#!forum/swift"
   ]
  },
  {
   "cell_type": "markdown",
   "metadata": {},
   "source": [
    "![](https://i.ytimg.com/vi/wX_rh8Qugt0/maxresdefault.jpg)"
   ]
  },
  {
   "cell_type": "markdown",
   "metadata": {},
   "source": [
    "<center>\n",
    "    ![](https://github.com/tensorflow/swift/raw/master/images/logo.png)\n",
    "https://github.com/tensorflow/swift/\n",
    "    </center>"
   ]
  },
  {
   "cell_type": "markdown",
   "metadata": {},
   "source": [
    "Tensorflow is a Machine Learning Library for Python used to build Neural Networks. It's optimized for highly computational mathmatical operations on data or tensors, as it flows through the network. The network is represented by a computational graph of nodes where each node is an operation that can be preformed on a tensor. This graph architecture allows for highly parallel processing across many CPUs, GPUs, or TPUs and is the core of deep learning.\n",
    "\n",
    "\n",
    "<center>\n",
    "    ![](https://github.com/tensorflow/swift/raw/master/docs/images/GraphProgramExtraction-Graph.png?raw=true)\n",
    "</center>\n",
    "\n",
    "<br><br><br><br><br>\n",
    "\n",
    "(**Swift + Tensorflow** == <3)\n",
    "\n",
    "*eventually*\n"
   ]
  },
  {
   "cell_type": "markdown",
   "metadata": {},
   "source": [
    "## Graph program extraction algorithm\n",
    "Remove all the tensorflow operations from a program, builds the graph, and hands off to TensorFlow to execute across CPUs, TPUs, or GPUs\n",
    "\n",
    "<center>\n",
    "    ![](https://github.com/tensorflow/swift/raw/master/docs/images/DesignOverview-Pipeline.png?raw=true)\n",
    "</center>"
   ]
  },
  {
   "cell_type": "code",
   "execution_count": 1,
   "metadata": {},
   "outputs": [
    {
     "data": {
      "text/plain": []
     },
     "execution_count": 1,
     "metadata": {},
     "output_type": "execute_result"
    }
   ],
   "source": [
    "import TensorFlow"
   ]
  },
  {
   "cell_type": "code",
   "execution_count": 2,
   "metadata": {},
   "outputs": [
    {
     "data": {
      "text/plain": [
       "2018-06-10 18:16:28.943379: I tensorflow/core/platform/cpu_feature_guard.cc:141] Your CPU supports instructions that this TensorFlow binary was not compiled to use: SSE4.1 SSE4.2 AVX AVX2 FMA\r",
       "\r\n",
       "matrix: TensorFlow.Tensor<Float> = [[1.0, 2.0], [3.0, 4.0]]\r\n",
       "matrix: TensorFlow.Tensor<Float> = [[1.0, 2.0], [3.0, 4.0]]"
      ]
     },
     "execution_count": 2,
     "metadata": {},
     "output_type": "execute_result"
    }
   ],
   "source": [
    "// `Tensor` examples.\n",
    "var matrix = Tensor<Float>(shape: [2, 2], scalars: [1, 2, 3, 4])\n",
    "var matrix: Tensor<Float> = [[1, 2], [3, 4]]\n",
    "// `matrix` represents [[1, 2], [3, 4]].\n"
   ]
  },
  {
   "cell_type": "code",
   "execution_count": 3,
   "metadata": {},
   "outputs": [
    {
     "data": {
      "text/plain": [
       "sum: TensorFlow.Tensor<Float> = [[2.0, 4.0], [6.0, 8.0]]\r\n",
       "matrixProduct: TensorFlow.Tensor<Float> = [[7.0, 10.0], [15.0, 22.0]]"
      ]
     },
     "execution_count": 3,
     "metadata": {},
     "output_type": "execute_result"
    }
   ],
   "source": [
    "\n",
    "// Arithmetic operations, using TensorFlow.\n",
    "let sum = matrix + matrix\n",
    "let matrixProduct = matrix.dot(matrix)\n",
    "// `sum` represents [[2.0, 4.0], [6.0, 8.0]].\n",
    "// `sqrt` represents [[1.0, 1.41421], [1.73205, 2.0]].\n",
    "// `matrixProduct` represents [[7.0, 10.0], [15.0, 22.0]].\n"
   ]
  },
  {
   "cell_type": "code",
   "execution_count": 4,
   "metadata": {},
   "outputs": [
    {
     "data": {
      "text/plain": [
       "array2D: TensorFlow.ShapedArray<TensorFlow.Tensor<Float>> = [[1.0, 2.0], [3.0, 4.0]]"
      ]
     },
     "execution_count": 4,
     "metadata": {},
     "output_type": "execute_result"
    }
   ],
   "source": [
    "\n",
    "// Convert `Tensor` to `ShapedArray`.\n",
    "let array2D = ShapedArray(matrix)\n",
    "// `array2D` is stored on the host."
   ]
  },
  {
   "cell_type": "markdown",
   "metadata": {},
   "source": [
    "Highlevel frameworks such as Keras have not yet been written for Swift, nor is the Swift implementation of Tensorflow stable.  There are some Models being build with these basic building blocks, they however are not compatible with Swift Jupyter Notebooks and the Swift 4.2 development stream with TensorFlow yet."
   ]
  },
  {
   "cell_type": "markdown",
   "metadata": {},
   "source": [
    "#### Taken from https://github.com/tensorflow/swift-models/blob/master/MNIST/MNIST.swift"
   ]
  },
  {
   "cell_type": "code",
   "execution_count": 5,
   "metadata": {},
   "outputs": [
    {
     "data": {
      "text/plain": []
     },
     "execution_count": 5,
     "metadata": {},
     "output_type": "execute_result"
    }
   ],
   "source": [
    "import Foundation\n",
    "import TensorFlow\n"
   ]
  },
  {
   "cell_type": "code",
   "execution_count": 6,
   "metadata": {},
   "outputs": [
    {
     "data": {
      "text/plain": []
     },
     "execution_count": 6,
     "metadata": {},
     "output_type": "execute_result"
    }
   ],
   "source": [
    "// Returns the images tensor and labels tensor.\n",
    "public func readMnist(\n",
    "    imagesFile: String, labelsFile: String\n",
    ") -> (Tensor<Float>, Tensor<Int32>) {\n",
    "    print(\"Reading data.\")\n",
    "    let imageData =\n",
    "        try! Data(contentsOf: URL(fileURLWithPath: imagesFile)).dropFirst(16)\n",
    "    let labelData =\n",
    "        try! Data(contentsOf: URL(fileURLWithPath: labelsFile)).dropFirst(8)\n",
    "    let images = imageData.map { Float($0) }\n",
    "    let labels = labelData.map { Int32($0) }\n",
    "    let rowCount = Int32(labels.count)\n",
    "    let columnCount = Int32(images.count) / rowCount\n",
    "\n",
    "    print(\"Constructing data tensors.\")\n",
    "    let imagesTensor = Tensor(shape: [rowCount, columnCount], scalars: images)\n",
    "    let labelsTensor = Tensor(labels)\n",
    "    return (imagesTensor.toDevice(), labelsTensor.toDevice())\n",
    "}"
   ]
  },
  {
   "cell_type": "code",
   "execution_count": 7,
   "metadata": {},
   "outputs": [
    {
     "data": {
      "text/plain": [
       "currentDirectory: Foundation.URL = {\r\n",
       "  _url = {\r\n",
       "    Foundation.NSObject = {}\r\n",
       "    _base = {\r\n",
       "      info = 7552\r\n",
       "      pad = 0\r\n",
       "    }\r\n",
       "    _flags = 1610733601\r\n",
       "    _encoding = 134217984\r\n",
       "    _string = 0x0000000000c12710 -> 0x00007fffe11938f0 full type metadata for Foundation._NSCFString + 16\r\n",
       "    _baseURL = nil\r\n",
       "    _extra = nil\r\n",
       "    _resourceInfo = nil\r\n",
       "    _range1 = {\r\n",
       "      location = 0\r\n",
       "      length = 4\r\n",
       "    }\r\n",
       "    _range2 = {\r\n",
       "      location = 7\r\n",
       "      length = 23\r\n",
       "    }\r\n",
       "    _range3 = {\r\n",
       "      location = 0\r\n",
       "      length = 0\r\n",
       "    }\r\n",
       "    _range4 = {\r\n",
       "      location = 0\r\n",
       "      length = 0\r\n",
       "    }\r\n",
       "    _range5 = {\r\n",
       "      location = 0\r\n",
       "      length = 0\r\n",
       "    }\r\n",
       "    _range6 = {\r\n",
       "      location = 0\r\n",
       "      length = 0\r\n",
       "    }\r\n",
       "    _range7 = {\r\n",
       "      location = 0\r\n",
       "      length = 0\r\n",
       "    }\r\n",
       "    _range8 = {\r\n",
       "      location = 0\r\n",
       "      length = 0\r\n",
       "    }\r\n",
       "    _range9 = {\r\n",
       "      location = 0\r\n",
       "      length = 0\r\n",
       "    }\r\n",
       "  }\r\n",
       "}\r\n",
       "currentScriptPath: Foundation.URL = {\r\n",
       "  _url = {\r\n",
       "    Foundation.NSObject = {}\r\n",
       "    _base = {\r\n",
       "      info = 7552\r\n",
       "      pad = 0\r\n",
       "    }\r\n",
       "    _flags = 1610731553\r\n",
       "    _encoding = 134217984\r\n",
       "    _string = 0x0000000000c11cd0 -> 0x00007fffe11938f0 full type metadata for Foundation._NSCFString + 16\r\n",
       "    _baseURL = nil\r\n",
       "    _extra = nil\r\n",
       "    _resourceInfo = nil\r\n",
       "    _range1 = {\r\n",
       "      location = 0\r\n",
       "      length = 4\r\n",
       "    }\r\n",
       "    _range2 = {\r\n",
       "      location = 7\r\n",
       "      length = 55\r\n",
       "    }\r\n",
       "    _range3 = {\r\n",
       "      location = 0\r\n",
       "      length = 0\r\n",
       "    }\r\n",
       "    _range4 = {\r\n",
       "      location = 0\r\n",
       "      length = 0\r\n",
       "    }\r\n",
       "    _range5 = {\r\n",
       "      location = 0\r\n",
       "      length = 0\r\n",
       "    }\r\n",
       "    _range6 = {\r\n",
       "      location = 0\r\n",
       "      length = 0\r\n",
       "    }\r\n",
       "    _range7 = {\r\n",
       "      location = 0\r\n",
       "      length = 0\r\n",
       "    }\r\n",
       "    _range8 = {\r\n",
       "      location = 0\r\n",
       "      length = 0\r\n",
       "    }\r\n",
       "    _range9 = {\r\n",
       "      location = 0\r\n",
       "      length = 0\r\n",
       "    }\r\n",
       "  }\r\n",
       "}\r\n",
       "scriptDirectory: Foundation.URL = {\r\n",
       "  _url = {\r\n",
       "    Foundation.NSObject = {}\r\n",
       "    _base = {\r\n",
       "      info = 7552\r\n",
       "      pad = 0\r\n",
       "    }\r\n",
       "    _flags = 1610663969\r\n",
       "    _encoding = 134217984\r\n",
       "    _string = 0x0000000000c11ea0 -> 0x00007fffe11938f0 full type metadata for Foundation._NSCFString + 16\r\n",
       "    _baseURL = nil\r\n",
       "    _extra = nil\r\n",
       "    _resourceInfo = nil\r\n",
       "    _range1 = {\r\n",
       "      location = 0\r\n",
       "      length = 4\r\n",
       "    }\r\n",
       "    _range2 = {\r\n",
       "      location = 7\r\n",
       "      length = 58\r\n",
       "    }\r\n",
       "    _range3 = {\r\n",
       "      location = 0\r\n",
       "      length = 0\r\n",
       "    }\r\n",
       "    _range4 = {\r\n",
       "      location = 0\r\n",
       "      length = 0\r\n",
       "    }\r\n",
       "    _range5 = {\r\n",
       "      location = 0\r\n",
       "      length = 0\r\n",
       "    }\r\n",
       "    _range6 = {\r\n",
       "      location = 0\r\n",
       "      length = 0\r\n",
       "    }\r\n",
       "    _range7 = {\r\n",
       "      location = 0\r\n",
       "      length = 0\r\n",
       "    }\r\n",
       "    _range8 = {\r\n",
       "      location = 0\r\n",
       "      length = 0\r\n",
       "    }\r\n",
       "    _range9 = {\r\n",
       "      location = 0\r\n",
       "      length = 0\r\n",
       "    }\r\n",
       "  }\r\n",
       "}"
      ]
     },
     "execution_count": 7,
     "metadata": {},
     "output_type": "execute_result"
    }
   ],
   "source": [
    "// Get script directory. This is necessary for MNIST.swift to work when\n",
    "// invoked from any directory.\n",
    "let currentDirectory =\n",
    "    URL(fileURLWithPath: FileManager.default.currentDirectoryPath)\n",
    "let currentScriptPath = URL(fileURLWithPath: CommandLine.arguments[0],\n",
    "                            relativeTo: currentDirectory)\n",
    "let scriptDirectory = currentScriptPath.appendingPathComponent(\"..\")"
   ]
  },
  {
   "cell_type": "code",
   "execution_count": null,
   "metadata": {},
   "outputs": [],
   "source": [
    "// Get training data.\n",
    "let imagesFile = scriptDirectory.appendingPathComponent(\"train-images-idx3-ubyte\").path\n",
    "let labelsFile = scriptDirectory.appendingPathComponent(\"train-labels-idx1-ubyte\").path\n",
    "let (images, numericLabels) = readMnist(imagesFile: imagesFile,\n",
    "                                        labelsFile: labelsFile)\n",
    "let labels = Tensor<Float>(oneHotAtIndices: numericLabels, depth: 10)\n",
    "\n",
    "// FIXME: Defining batchSize as a scalar, or as a tensor as follows instead\n",
    "// of returning it from readMnist() crashes the compiler:\n",
    "// https://bugs.swift.org/browse/SR-7706\n",
    "// let batchSize = Tensor<Float>(Float(images.shape[0]))\n",
    "let batchSize = Tensor<Float>(images.shapeTensor[0])"
   ]
  },
  {
   "cell_type": "code",
   "execution_count": null,
   "metadata": {},
   "outputs": [],
   "source": [
    "// Hyper-parameters.\n",
    "let iterationCount: Int32 = 20\n",
    "let learningRate: Float = 0.2\n",
    "var loss = Float.infinity"
   ]
  },
  {
   "cell_type": "code",
   "execution_count": null,
   "metadata": {},
   "outputs": [],
   "source": [
    "// Parameters.\n",
    "var w1 = Tensor<Float>(randomUniform: [784, 30])\n",
    "var w2 = Tensor<Float>(randomUniform: [30, 10])\n",
    "var b1 = Tensor<Float>(zeros: [1, 30])\n",
    "var b2 = Tensor<Float>(zeros: [1, 10])"
   ]
  },
  {
   "cell_type": "code",
   "execution_count": null,
   "metadata": {},
   "outputs": [],
   "source": [
    "// Training loop.\n",
    "print(\"Begin training for \\(iterationCount) iterations.\")"
   ]
  },
  {
   "cell_type": "code",
   "execution_count": null,
   "metadata": {},
   "outputs": [],
   "source": [
    "var i: Int32 = 0\n",
    "repeat {\n",
    "    // Forward pass.\n",
    "    let z1 = images ⊗ w1 + b1\n",
    "    let h1 = sigmoid(z1)\n",
    "    let z2 = h1 ⊗ w2 + b2\n",
    "    let predictions = sigmoid(z2)\n",
    "\n",
    "    // Backward pass.\n",
    "    let dz2 = (predictions - labels) / batchSize\n",
    "    let dw2 = h1.transposed(withPermutations: 1, 0) ⊗ dz2\n",
    "    let db2 = dz2.sum(squeezingAxes: 0)\n",
    "    let dz1 = dz2.dot(w2.transposed(withPermutations: 1, 0)) * h1 * (1 - h1)\n",
    "    let dw1 = images.transposed(withPermutations: 1, 0) ⊗ dz1\n",
    "    let db1 = dz1.sum(squeezingAxes: 0)\n",
    "\n",
    "    // Gradient descent.\n",
    "    w1 -= dw1 * learningRate\n",
    "    b1 -= db1 * learningRate\n",
    "    w2 -= dw2 * learningRate\n",
    "    b2 -= db2 * learningRate\n",
    "\n",
    "    // Update the sigmoid-based cross-entropy loss, where we treat the 10\n",
    "    // class labels as independent. This is unnecessary for the MNIST case,\n",
    "    // where we want to predict a single label. In that case we should\n",
    "    // consider switching to a softmax-based cross-entropy loss.\n",
    "    //\n",
    "    // Let m be the batch size, y be the target labels, and A be the\n",
    "    // predictions.  The formula expressed in TF expression is:\n",
    "    // 1/m * tf.reduce_sum(- y * tf.log(A) - (1-y) * tf.log(1-A))\n",
    "    let part1 = -labels * log(predictions)\n",
    "    let part2 = -(1 - labels) * log(1 - predictions)\n",
    "    // FIXME: Remove scalarized() call when we make `batchSize` scalar,\n",
    "    // after fixing https://bugs.swift.org/browse/SR-7706\n",
    "    loss = (part1 + part2).sum() / batchSize.scalarized()\n",
    "    // To print out the loss value per iteration, uncomment the following\n",
    "    // code.\n",
    "    // FIXME: Fix runtime hanging when we print loss directly instead of\n",
    "    // printing via lossTensor: https://bugs.swift.org/browse/SR-7705\n",
    "    // let lossTensor = Tensor<Float>(loss)\n",
    "    // print(lossTensor)\n",
    "    // Update iteration count.\n",
    "    i += 1\n",
    "} while i < iterationCount"
   ]
  },
  {
   "cell_type": "code",
   "execution_count": null,
   "metadata": {},
   "outputs": [],
   "source": [
    "print(\"Loss: \\(loss)\")"
   ]
  },
  {
   "cell_type": "markdown",
   "metadata": {},
   "source": [
    "# Python Interoperability"
   ]
  },
  {
   "cell_type": "markdown",
   "metadata": {},
   "source": [
    "Still in it's infancy has a design document here: https://gist.github.com/lattner/a6257f425f55fe39fd6ac7a2354d693d, first commit happened this week and is available on the development branch of swift-4.2-tensorflow.\n"
   ]
  },
  {
   "cell_type": "code",
   "execution_count": 1,
   "metadata": {},
   "outputs": [
    {
     "data": {
      "text/plain": []
     },
     "execution_count": 1,
     "metadata": {},
     "output_type": "execute_result"
    }
   ],
   "source": [
    "import Python"
   ]
  },
  {
   "cell_type": "code",
   "execution_count": 3,
   "metadata": {},
   "outputs": [
    {
     "data": {
      "text/plain": [
       "gzip: Python.PythonObject = <module 'gzip' from '/usr/lib/python2.7/gzip.pyc'>\r\n",
       "pickle: Python.PythonObject = <module 'pickle' from '/usr/lib/python2.7/pickle.pyc'>\r\n",
       "file: Python.PythonObject = <gzip open file 'mnist.pkl.gz', mode 'rb' at 0x7ffff7e9d810 0x7ffff242c4d0>"
      ]
     },
     "execution_count": 3,
     "metadata": {},
     "output_type": "execute_result"
    }
   ],
   "source": [
    "// NumPy example:\n",
    "//let np = Python.import(\"numpy\")             // import numpy as np  PROBLEM WITH NUMPY\n",
    "//let a = np.arange(15).reshape(3, 5)         // a = np.arange(15).reshape(3, 5)\n",
    "//let b = np.array([6, 7, 8])                 // b = np.array([6, 7, 8])\n",
    "\n",
    "// Pickle example:\n",
    "let gzip = Python.import(\"gzip\")            // import gzip as gzip\n",
    "let pickle = Python.import(\"pickle\")        // import pickle as pickle\n",
    "let file = gzip.open(\"mnist.pkl.gz\", \"rb\")  // file = gzip.open(\"mnist.pkl.gz\", \"rb\")\n",
    "                                            // (images, labels) = pickle.load(file)\n"
   ]
  },
  {
   "cell_type": "code",
   "execution_count": null,
   "metadata": {},
   "outputs": [],
   "source": [
    "let (images, labels) = pickle.load(file).tuple2"
   ]
  },
  {
   "cell_type": "code",
   "execution_count": null,
   "metadata": {},
   "outputs": [],
   "source": [
    "print(images.shape) // (50000, 784)            print(images.shape)"
   ]
  },
  {
   "cell_type": "code",
   "execution_count": null,
   "metadata": {},
   "outputs": [],
   "source": []
  }
 ],
 "metadata": {
  "kernelspec": {
   "display_name": "Swift-TensorFlow",
   "language": "swift",
   "name": "iswifttensorflowkernel"
  },
  "language_info": {
   "file_extension": ".swift",
   "mimetype": "text/swift",
   "name": "swift",
   "version": "2.1"
  }
 },
 "nbformat": 4,
 "nbformat_minor": 2
}
